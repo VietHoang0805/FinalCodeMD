{
 "cells": [
  {
   "cell_type": "markdown",
   "metadata": {},
   "source": [
    "# Q1"
   ]
  },
  {
   "cell_type": "code",
   "execution_count": 2,
   "metadata": {},
   "outputs": [
    {
     "name": "stdout",
     "output_type": "stream",
     "text": [
      "Correct\n",
      "IntList = [6]\n",
      "DecList = [7]\n"
     ]
    }
   ],
   "source": [
    "def process_floating_number():\n",
    "    while True:\n",
    "        try:\n",
    "            # Nhập số thực\n",
    "            num = float(input(\"Input Float\"))\n",
    "            if int(num) != num:  # Nếu phần thập phân có ý nghĩa\n",
    "                print(\"Correct\")\n",
    "            else: \n",
    "                print(\"Incorrect. Reinput again\")\n",
    "                continue\n",
    "\n",
    "            # Chuyển số thành chuỗi để tách phần nguyên và thập phân\n",
    "            num_str = str(abs(num))  # Lấy giá trị tuyệt đối để dễ xử lý\n",
    "            int_part, dec_part = num_str.split(\".\")\n",
    "            \n",
    "            # Lưu phần nguyên và thập phân vào danh sách\n",
    "            int_list = [int(digit) for digit in int_part]\n",
    "            dec_list = [int(digit) for digit in dec_part]\n",
    "\n",
    "            # In kết quả\n",
    "            print(f\"IntList = {int_list}\")\n",
    "            print(f\"DecList = {dec_list}\")\n",
    "            break\n",
    "        except ValueError:\n",
    "            print(\"Data invalid, please input again\")\n",
    "\n",
    "# Gọi hàm\n",
    "process_floating_number()\n"
   ]
  },
  {
   "cell_type": "markdown",
   "metadata": {},
   "source": [
    "# Q2\n"
   ]
  },
  {
   "cell_type": "code",
   "execution_count": 4,
   "metadata": {},
   "outputs": [
    {
     "name": "stdout",
     "output_type": "stream",
     "text": [
      "2/3\n"
     ]
    }
   ],
   "source": [
    "import math\n",
    "\n",
    "def gcd(a, b):\n",
    "    return math.gcd(a, b)\n",
    "\n",
    "def lcm(a, b):\n",
    "    return abs(a * b) // gcd(a, b)\n",
    "\n",
    "def reduce_fraction(a, b):\n",
    "    g = gcd(a, b)\n",
    "    return f\"{a // g}/{b // g}\"\n",
    "\n",
    "def process_string_and_numbers():\n",
    "    while True:\n",
    "        try:\n",
    "            # Nhập chuỗi\n",
    "            operation = input(\"Enter string (GCD, LCM, FRAC): \").strip().upper()\n",
    "            if operation not in [\"GCD\", \"LCM\", \"FRAC\"]:\n",
    "                print(\"Incorrect. Reinput again\")\n",
    "                continue\n",
    "            \n",
    "            # Nhập hai số nguyên dương\n",
    "            num1 = int(input(\"Enter the first positive integer: \"))\n",
    "            num2 = int(input(\"Enter the second positive integer: \"))\n",
    "            if num1 <= 0 or num2 <= 0:\n",
    "                print(\"Both numbers must be positive integers. Please re-enter.\")\n",
    "                continue\n",
    "\n",
    "            # Xử lý theo yêu cầu\n",
    "            if operation == \"GCD\":\n",
    "                result = gcd(num1, num2)\n",
    "                print(f\"{result}\")\n",
    "            elif operation == \"LCM\":\n",
    "                result = lcm(num1, num2)\n",
    "                print(f\"{result}\")\n",
    "            elif operation == \"FRAC\":\n",
    "                result = reduce_fraction(num1, num2)\n",
    "                print(f\"{result}\")\n",
    "            break\n",
    "        except ValueError:\n",
    "            print(\"Data invalid, please reinput again\")\n",
    "\n",
    "# Gọi hàm\n",
    "process_string_and_numbers()\n"
   ]
  }
 ],
 "metadata": {
  "kernelspec": {
   "display_name": "tf",
   "language": "python",
   "name": "python3"
  },
  "language_info": {
   "codemirror_mode": {
    "name": "ipython",
    "version": 3
   },
   "file_extension": ".py",
   "mimetype": "text/x-python",
   "name": "python",
   "nbconvert_exporter": "python",
   "pygments_lexer": "ipython3",
   "version": "3.9.18"
  }
 },
 "nbformat": 4,
 "nbformat_minor": 2
}
